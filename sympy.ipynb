{
 "cells": [
  {
   "cell_type": "markdown",
   "id": "e986d0ff-d6e3-411f-994b-f3e6f8b9bef1",
   "metadata": {},
   "source": [
    "# TPE N°1 : CALCUL SYMBOLIQUE ET SYMPY"
   ]
  },
  {
   "cell_type": "markdown",
   "id": "a2272255-a41e-4c2e-8d8a-ad2915f84f4c",
   "metadata": {},
   "source": [
    "## Noms et Matricules des membres\n",
    "\n",
    "\n",
    "| MATRICULES  |        NOMS DES MEMBRES         |\n",
    "|-------------|---------------------------------|\n",
    "|   22T2960   |       BELL ARSÈNE KEVIN         |\n",
    "|   22W2147   |      MELONG LETHYCIA            |\n",
    "|   22W2164   |   DASSI MANDJO LEA JUSTINE      |\n",
    "|   22T2892   |   AKONO NOAH CAROLE JESSICA     |\n",
    "\n",
    "\n"
   ]
  },
  {
   "cell_type": "markdown",
   "id": "a5c315d6-8e1a-4444-8e26-518be1d12fe7",
   "metadata": {},
   "source": [
    "<h2>I- C'est quoi le calcul symbolique ?</h2>"
   ]
  },
  {
   "cell_type": "markdown",
   "id": "6760f8c7-14ca-4f2b-a7ba-46bf782f5a4b",
   "metadata": {},
   "source": [
    "    Le calcul symbolique en data science désigne l’utilisation d’outils capables de manipuler des expressions mathématiques sous forme symbolique (par exemple, x + y ou sin(x)), plutôt que de simplement manipuler des valeurs numériques. Cela permet :\n",
    "\n",
    "- D’effectuer des dérivations, intégrations, simplifications, factorisations, etc. sur des formules mathématiques.\n",
    "- D’obtenir des résultats exacts (par exemple, √2 ou π) au lieu d’approximations numériques.\n",
    "- D’automatiser la résolution d’équations ou la génération de modèles analytiques."
   ]
  },
  {
   "cell_type": "markdown",
   "id": "76571184-40d9-46d1-be59-c3fe754b523a",
   "metadata": {},
   "source": [
    "<h2>II- Quel est son utilité ?</h2>"
   ]
  },
  {
   "cell_type": "markdown",
   "id": "19eccdc5-fa37-411b-b4ad-fc1b627a745c",
   "metadata": {},
   "source": [
    "    Le calcul symbolique permet de manipuler des expressions mathématiques sous forme exacte (symboles, formules) plutôt que sous forme numérique (valeurs approximatives).Ses utilités principales sont :\n",
    "\n",
    "- Résolution exacte d’équations (algébriques, différentielles, etc.)\n",
    "- Simplification et transformation d’expressions (factorisation, développement, réduction)\n",
    "- Calcul de dérivées et d’intégrales\n",
    "- Manipulation de formules générales pour générer des solutions applicables à plusieurs cas\n",
    "\n",
    "<p style=\"font-size : 20px; font-weight: bold;\">En science de données, le calcul symbolique est utilisé pour :</p>\n",
    "\n",
    "- Calculer des dérivées analytiques (par exemple, pour l’optimisation ou le calcul de gradients)\n",
    "- Simplifier des modèles mathématiques pour les rendre plus interprétables\n",
    "- Générer des équations explicites à partir de données ou de modèles (symbolic regression)\n",
    "- Automatiser la résolution d’équations issues de modèles statistiques ou de machine learning\n",
    "- Vérifier la justesse de formules ou de résultats numériques"
   ]
  },
  {
   "cell_type": "markdown",
   "id": "39144858-6b4d-48f9-ae2a-9b0276486df2",
   "metadata": {},
   "source": [
    "<h2>III- Python et calcul symbolique.</h2>"
   ]
  },
  {
   "cell_type": "markdown",
   "id": "62b183ff-fc97-4c61-bbef-c8056a95585e",
   "metadata": {},
   "source": [
    "La bibliothèque la plus utilisée en Python pour le calcul symbolique est SymPy.\n",
    "Elle permet de manipuler des expressions mathématiques de façon symbolique (dérivation, intégration, simplification, résolution d’équations, etc.).\n",
    "Il existe d’autres modules pour le calcul symbolique en Python, comme :\n",
    "- SageMath : très puissant, mais plus lourd et moins intégré à l’écosystème Python standard.\n",
    "- SymEngine : plus rapide, mais moins complet que SymPy.\n",
    "- Theano et TensorFlow : proposent du calcul symbolique pour l’optimisation, mais sont orientés machine learning.\n",
    "\n",
    "Cependant sympy offre plein d'avantages comme :\n",
    "- <strong>Le fait qu'elle soit Pur Python :</strong> facile à installer, multiplateforme, sans dépendances externes.\n",
    "- <strong>Lisibilité :</strong> syntaxe claire et proche des mathématiques.\n",
    "- <strong>Large couverture :</strong> dérivation, intégration, simplification, résolution d’équations, matrices, polynômes, etc.\n",
    "- <strong>Exportation :</strong> conversion en LaTeX, code Python, C, etc.\n",
    "- <strong>Interopérabilité :</strong> peut être utilisé avec NumPy, pandas, Jupyter, etc.\n"
   ]
  },
  {
   "cell_type": "markdown",
   "id": "42988d09-13ad-448b-bcf0-9572eeff8cb9",
   "metadata": {},
   "source": [
    "<h2>IV- Quelques exemples d'utilisation</h2>"
   ]
  },
  {
   "cell_type": "markdown",
   "id": "88206c18-eae7-4f28-88bc-b0da157f5b9e",
   "metadata": {},
   "source": [
    "<h3>1. Manipulation symbolique</h3>"
   ]
  },
  {
   "cell_type": "code",
   "execution_count": 1,
   "id": "f2c96ed5-6a55-446d-b289-7520b052077f",
   "metadata": {},
   "outputs": [
    {
     "name": "stdout",
     "output_type": "stream",
     "text": [
      "Expression symbolique : x**2 + 2*x*y + y**2\n"
     ]
    }
   ],
   "source": [
    "import sympy\n",
    "\n",
    "x, y = sympy.symbols('x y')\n",
    "expr = x**2 + 2*x*y + y**2\n",
    "print(\"Expression symbolique :\", expr)"
   ]
  },
  {
   "cell_type": "markdown",
   "id": "47290fa6-c2e2-4487-8517-26d251addffe",
   "metadata": {},
   "source": [
    "<h3>2. Calcul différentiel et intégral</h3>"
   ]
  },
  {
   "cell_type": "code",
   "execution_count": 2,
   "id": "d662b616-a6f5-4081-a757-2492fe3d51d2",
   "metadata": {},
   "outputs": [
    {
     "name": "stdout",
     "output_type": "stream",
     "text": [
      "Dérivée par rapport à x : 2*x + 2*y\n",
      "Intégrale par rapport à x : x**3/3 + x**2*y + x*y**2\n"
     ]
    }
   ],
   "source": [
    "derivative = sympy.diff(expr, x)\n",
    "integral = sympy.integrate(expr, x)\n",
    "print(\"Dérivée par rapport à x :\", derivative)\n",
    "print(\"Intégrale par rapport à x :\", integral)"
   ]
  },
  {
   "cell_type": "markdown",
   "id": "4bec8e92-1e7a-4bcf-8c6f-4301ee39c930",
   "metadata": {},
   "source": [
    "<h3>3. Résolution d’équations</h3>"
   ]
  },
  {
   "cell_type": "code",
   "execution_count": 3,
   "id": "9ab504ce-7061-4d4a-bf5b-9e84f2ddfb04",
   "metadata": {},
   "outputs": [
    {
     "name": "stdout",
     "output_type": "stream",
     "text": [
      "Solutions de x^2 - 4 = 0 : [-2, 2]\n"
     ]
    }
   ],
   "source": [
    "solution = sympy.solve(x**2 - 4, x)\n",
    "print(\"Solutions de x^2 - 4 = 0 :\", solution)"
   ]
  },
  {
   "cell_type": "markdown",
   "id": "97d9de16-298d-4a7b-b2e3-b8eabb63cffd",
   "metadata": {},
   "source": [
    "<h3>4. Simplification et transformation</h3>"
   ]
  },
  {
   "cell_type": "code",
   "execution_count": 4,
   "id": "322db539-50a3-476f-9c68-727524eef8dd",
   "metadata": {},
   "outputs": [
    {
     "name": "stdout",
     "output_type": "stream",
     "text": [
      "Simplification : x + 1\n",
      "Factorisation : (x - y)*(x + y)\n",
      "Développement : x**2 + 2*x*y + y**2\n"
     ]
    }
   ],
   "source": [
    "simplified = sympy.simplify((x**2 + 2*x + 1)/(x + 1))\n",
    "factored = sympy.factor(x**2 - y**2)\n",
    "expanded = sympy.expand((x + y)**2)\n",
    "print(\"Simplification :\", simplified)\n",
    "print(\"Factorisation :\", factored)\n",
    "print(\"Développement :\", expanded)"
   ]
  },
  {
   "cell_type": "markdown",
   "id": "0ecf1ada-c8a0-4835-bde5-57589e068fbe",
   "metadata": {},
   "source": [
    "<h3>5. Calcul matriciel</h3>"
   ]
  },
  {
   "cell_type": "code",
   "execution_count": 5,
   "id": "55220dcc-34d8-467a-bacd-789d6f1b2024",
   "metadata": {},
   "outputs": [
    {
     "name": "stdout",
     "output_type": "stream",
     "text": [
      "Déterminant : -2\n",
      "Inverse : Matrix([[-2, 1], [3/2, -1/2]])\n",
      "Valeurs propres : {5/2 - sqrt(33)/2: 1, 5/2 + sqrt(33)/2: 1}\n"
     ]
    }
   ],
   "source": [
    "M = sympy.Matrix([[1, 2], [3, 4]])\n",
    "det = M.det()\n",
    "inv = M.inv()\n",
    "eigenvals = M.eigenvals()\n",
    "print(\"Déterminant :\", det)\n",
    "print(\"Inverse :\", inv)\n",
    "print(\"Valeurs propres :\", eigenvals)"
   ]
  },
  {
   "cell_type": "markdown",
   "id": "f67f869a-2a27-4636-ae3e-40bc16a8f48e",
   "metadata": {},
   "source": [
    "<h3>6. Affichage mathématique (LaTeX)</h3>"
   ]
  },
  {
   "cell_type": "code",
   "execution_count": 6,
   "id": "08e1cc3a-aa90-42a3-877a-89e232cf7264",
   "metadata": {},
   "outputs": [
    {
     "name": "stdout",
     "output_type": "stream",
     "text": [
      "Expression en LaTeX : x^{2} + 2 x y + y^{2}\n"
     ]
    }
   ],
   "source": [
    "latex_expr = sympy.latex(expr)\n",
    "print(\"Expression en LaTeX :\", latex_expr)"
   ]
  },
  {
   "cell_type": "markdown",
   "id": "7e78b596-1f33-4757-9058-c55b1316bc5a",
   "metadata": {},
   "source": [
    "Par ailleurs, le calcul symbolique est très utile en optimisation, surtout pour :\n",
    "\n",
    "- Calculer des gradients et hessiennes automatiquement.\n",
    "\n",
    "- Simplifier des expressions de fonctions coût.\n",
    "\n",
    "- Générer du code exact avant de passer à une approximation numérique."
   ]
  },
  {
   "cell_type": "markdown",
   "id": "1f1e1c4c-939c-4817-969e-27f00a88519e",
   "metadata": {},
   "source": [
    "<h3>7. Calcul symbolique pour l’optimisation</h3>"
   ]
  },
  {
   "cell_type": "markdown",
   "id": "9bacc11f-129f-44ec-9c2b-f05ca5972a4f",
   "metadata": {},
   "source": [
    "<h4>a) Calcul du gradient</h4>"
   ]
  },
  {
   "cell_type": "code",
   "execution_count": 2,
   "id": "984ea8c6-d448-4ba2-8e5f-9a4bed5f9da4",
   "metadata": {},
   "outputs": [
    {
     "data": {
      "text/plain": [
       "[2*x + 2*y, 2*x + 2*y]"
      ]
     },
     "execution_count": 2,
     "metadata": {},
     "output_type": "execute_result"
    }
   ],
   "source": [
    "grad_f = [sympy.diff(expr, var) for var in (x, y)]\n",
    "grad_f"
   ]
  },
  {
   "cell_type": "markdown",
   "id": "2f7b486f-4896-45ab-9887-784ebfaf9b41",
   "metadata": {},
   "source": [
    "<h4>b) Calcul de la hessienne</h4>"
   ]
  },
  {
   "cell_type": "code",
   "execution_count": 4,
   "id": "dafce3e2-d405-473a-83a2-c970e6b6a895",
   "metadata": {},
   "outputs": [
    {
     "data": {
      "text/latex": [
       "$\\displaystyle \\left[\\begin{matrix}2 & 2\\\\2 & 2\\end{matrix}\\right]$"
      ],
      "text/plain": [
       "Matrix([\n",
       "[2, 2],\n",
       "[2, 2]])"
      ]
     },
     "execution_count": 4,
     "metadata": {},
     "output_type": "execute_result"
    }
   ],
   "source": [
    "hessian_f = sympy.hessian(expr, (x, y))\n",
    "hessian_f\n"
   ]
  },
  {
   "cell_type": "markdown",
   "id": "78be2992-e45a-442c-86c9-087519035bce",
   "metadata": {},
   "source": [
    "<h4>c) Identification des points critiques</h4>"
   ]
  },
  {
   "cell_type": "code",
   "execution_count": 5,
   "id": "474b1445-b5ca-4732-b8e3-cef4aed85a28",
   "metadata": {},
   "outputs": [
    {
     "data": {
      "text/plain": [
       "{x: -y}"
      ]
     },
     "execution_count": 5,
     "metadata": {},
     "output_type": "execute_result"
    }
   ],
   "source": [
    "solutions = sympy.solve(grad_f, (x, y))\n",
    "solutions"
   ]
  },
  {
   "cell_type": "markdown",
   "id": "e84a9e48-313f-48dc-93e0-64dc0d069843",
   "metadata": {},
   "source": [
    "L’équation du gradient ne fixe pas encore y, mais exprime x en fonction de y."
   ]
  },
  {
   "cell_type": "markdown",
   "id": "9309b974-0ff1-4837-be12-fc39576f977a",
   "metadata": {},
   "source": [
    "<h4>d) Vérification de la nature des points critiques</h4>"
   ]
  },
  {
   "cell_type": "code",
   "execution_count": 6,
   "id": "c26a691f-f6c0-46b3-937c-38b838b13512",
   "metadata": {},
   "outputs": [
    {
     "data": {
      "text/plain": [
       "{4: 1, 0: 1}"
      ]
     },
     "execution_count": 6,
     "metadata": {},
     "output_type": "execute_result"
    }
   ],
   "source": [
    "hessian_f.eigenvals()"
   ]
  },
  {
   "cell_type": "markdown",
   "id": "6d06c713-070b-4016-b4d4-1d727ca9a201",
   "metadata": {},
   "source": [
    "Cela signifie que les valeurs propres de la matrice hessienne sont :\n",
    "\n",
    "- 4 avec une multiplicité 1\n",
    "\n",
    "- 0 avec une multiplicité 1\n",
    "\n",
    "Interprétation\n",
    "\n",
    "La valeur propre 4 > 0 : cela indique une direction convexe (courbure positive).\n",
    "\n",
    "La valeur propre 0 : cela indique une direction plate → la fonction ne varie pas dans cette direction (courbure nulle).\n",
    "\n",
    "Comme nous avons 4 et 0, la Hessienne est semi-définie positive → donc le point critique est au mieux un minimum local non strict (minimum sur certaines directions, plat sur d’autres)."
   ]
  },
  {
   "cell_type": "markdown",
   "id": "dc1fce58-95d6-4879-92fc-6090aa58f5e5",
   "metadata": {},
   "source": [
    "<h2>V- Conclusion</h2>"
   ]
  },
  {
   "cell_type": "markdown",
   "id": "7c18249a-08c0-4cea-b388-737bb18420ef",
   "metadata": {},
   "source": [
    "Le calcul symbolique permet de manipuler des expressions mathématiques de façon exacte, ce qui facilite la dérivation, l’intégration, la résolution d’équations et la simplification de formules. En Python, la bibliothèque SymPy est la solution la plus accessible et polyvalente pour effectuer ce type de calculs, car elle est simple à utiliser, entièrement écrite en Python et propose de nombreuses fonctionnalités couvrant la plupart des besoins en mathématiques symboliques. Grâce à SymPy, il devient facile d’automatiser, d’analyser et de mieux comprendre les modèles mathématiques ou statistiques, ce qui en fait un outil précieux en data science et dans de nombreux domaines scientifiques."
   ]
  }
 ],
 "metadata": {
  "kernelspec": {
   "display_name": "Python 3 (ipykernel)",
   "language": "python",
   "name": "python3"
  },
  "language_info": {
   "codemirror_mode": {
    "name": "ipython",
    "version": 3
   },
   "file_extension": ".py",
   "mimetype": "text/x-python",
   "name": "python",
   "nbconvert_exporter": "python",
   "pygments_lexer": "ipython3",
   "version": "3.10.12"
  }
 },
 "nbformat": 4,
 "nbformat_minor": 5
}
